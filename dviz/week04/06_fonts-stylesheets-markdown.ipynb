{
 "cells": [
  {
   "cell_type": "code",
   "execution_count": null,
   "metadata": {},
   "outputs": [],
   "source": [
    "import pandas as pd \n",
    "import numpy as np \n",
    "import seaborn as sns\n",
    "import matplotlib.pyplot as plt "
   ]
  },
  {
   "cell_type": "code",
   "execution_count": null,
   "metadata": {},
   "outputs": [],
   "source": [
    "plt.rcParams['figure.figsize'] = (4,3)"
   ]
  },
  {
   "cell_type": "code",
   "execution_count": null,
   "metadata": {},
   "outputs": [],
   "source": [
    "data = sns.load_dataset('penguins')"
   ]
  },
  {
   "cell_type": "markdown",
   "metadata": {},
   "source": [
    "___"
   ]
  },
  {
   "cell_type": "markdown",
   "metadata": {},
   "source": [
    "# Using stylesheets "
   ]
  },
  {
   "cell_type": "markdown",
   "metadata": {},
   "source": [
    "### What are the stylesheets "
   ]
  },
  {
   "cell_type": "code",
   "execution_count": null,
   "metadata": {},
   "outputs": [],
   "source": [
    "import matplotlib as mpl"
   ]
  },
  {
   "cell_type": "markdown",
   "metadata": {},
   "source": [
    "Global default properties are stored as rcParams: "
   ]
  },
  {
   "cell_type": "code",
   "execution_count": null,
   "metadata": {},
   "outputs": [],
   "source": [
    "print(mpl.rcParams)"
   ]
  },
  {
   "cell_type": "markdown",
   "metadata": {},
   "source": [
    "We can save them locally and use them as a stylesheet "
   ]
  },
  {
   "cell_type": "markdown",
   "metadata": {},
   "source": [
    "Default stylesheets: "
   ]
  },
  {
   "cell_type": "code",
   "execution_count": null,
   "metadata": {},
   "outputs": [],
   "source": [
    "print(plt.style.available)"
   ]
  },
  {
   "cell_type": "markdown",
   "metadata": {},
   "source": [
    "### Activate predefined stylesheet"
   ]
  },
  {
   "cell_type": "markdown",
   "metadata": {},
   "source": [
    "Activate style: "
   ]
  },
  {
   "cell_type": "code",
   "execution_count": null,
   "metadata": {},
   "outputs": [],
   "source": [
    "plt.style.use('ggplot')"
   ]
  },
  {
   "cell_type": "code",
   "execution_count": null,
   "metadata": {},
   "outputs": [],
   "source": [
    "f, ax = plt.subplots()\n",
    "ax.scatter(x=data['flipper_length_mm'], y=data['body_mass_g']);\n",
    "ax.axhline(4000)"
   ]
  },
  {
   "cell_type": "markdown",
   "metadata": {},
   "source": [
    "Recover the defaults: "
   ]
  },
  {
   "cell_type": "code",
   "execution_count": null,
   "metadata": {},
   "outputs": [],
   "source": [
    "mpl.rcParams.update(mpl.rcParamsDefault)\n",
    "mpl.rcParams['figure.dpi'] = 75 # inline import overrides the default dpi  \n",
    "mpl.rcParams['figure.figsize'] = (4,3) # I set this at the beginning of the notebook to have smaller figures by default\n",
    "\n",
    "# for some reason we need to re-run this in mpl 3.7.1+\n",
    "%matplotlib inline "
   ]
  },
  {
   "cell_type": "code",
   "execution_count": null,
   "metadata": {},
   "outputs": [],
   "source": [
    "f, ax = plt.subplots()\n",
    "ax.scatter(x=data['flipper_length_mm'], y=data['body_mass_g']);\n",
    "ax.axhline(4000)"
   ]
  },
  {
   "cell_type": "markdown",
   "metadata": {},
   "source": [
    "### Temporarily change the stylesheet"
   ]
  },
  {
   "cell_type": "markdown",
   "metadata": {},
   "source": [
    "Temporarily change the style: use `plt.style.context(<stylename>)`"
   ]
  },
  {
   "cell_type": "code",
   "execution_count": null,
   "metadata": {},
   "outputs": [],
   "source": [
    "with plt.style.context('dark_background'):\n",
    "    f, ax = plt.subplots()\n",
    "    ax.scatter(x=data['flipper_length_mm'], y=data['body_mass_g']);\n",
    "    ax.axhline(4000)"
   ]
  },
  {
   "cell_type": "code",
   "execution_count": null,
   "metadata": {},
   "outputs": [],
   "source": [
    "print(mpl.rcParams['figure.facecolor'])\n",
    "with plt.style.context('dark_background'):\n",
    "    print(mpl.rcParams['figure.facecolor'])"
   ]
  },
  {
   "cell_type": "markdown",
   "metadata": {},
   "source": [
    "### Creating custom styles"
   ]
  },
  {
   "cell_type": "markdown",
   "metadata": {},
   "source": [
    "Define custom default styles: create a text file with keys and values\n",
    "\n",
    "Look at the reference to see what is available: https://matplotlib.org/stable/tutorials/introductory/customizing.html#the-matplotlibrc-file "
   ]
  },
  {
   "cell_type": "markdown",
   "metadata": {},
   "source": [
    "Let's inspect a stylesheet I created: "
   ]
  },
  {
   "cell_type": "code",
   "execution_count": null,
   "metadata": {},
   "outputs": [],
   "source": [
    "with open('./hslu_test_stylesheet.mplstyle', 'r') as f: \n",
    "    print(f.read())"
   ]
  },
  {
   "cell_type": "markdown",
   "metadata": {},
   "source": [
    "Option 1: `plt.style.context`: will respect some pre-defined rc settings "
   ]
  },
  {
   "cell_type": "code",
   "execution_count": null,
   "metadata": {},
   "outputs": [],
   "source": [
    "with plt.style.context('./hslu_test_stylesheet.mplstyle'):\n",
    "    f, ax = plt.subplots()\n",
    "    ax.scatter(x=data['flipper_length_mm'], y=data['body_mass_g']);\n",
    "    ax.axhline(4000)"
   ]
  },
  {
   "cell_type": "markdown",
   "metadata": {},
   "source": [
    "Option 2: `plt.rc_context`: will overwrite all rc settings"
   ]
  },
  {
   "cell_type": "code",
   "execution_count": null,
   "metadata": {},
   "outputs": [],
   "source": [
    "with plt.rc_context(fname='./hslu_test_stylesheet.mplstyle'):\n",
    "    f, ax = plt.subplots()\n",
    "    ax.scatter(x=data['flipper_length_mm'], y=data['body_mass_g']);\n",
    "    ax.axhline(4000)"
   ]
  },
  {
   "cell_type": "markdown",
   "metadata": {},
   "source": [
    "___"
   ]
  },
  {
   "cell_type": "markdown",
   "metadata": {},
   "source": [
    "# Changing the fonts"
   ]
  },
  {
   "cell_type": "markdown",
   "metadata": {},
   "source": [
    "### Font manager "
   ]
  },
  {
   "cell_type": "markdown",
   "metadata": {},
   "source": [
    "Fonts are managed by something called font manager"
   ]
  },
  {
   "cell_type": "markdown",
   "metadata": {},
   "source": [
    "To inspect which fonts are available: "
   ]
  },
  {
   "cell_type": "code",
   "execution_count": null,
   "metadata": {},
   "outputs": [],
   "source": [
    "import matplotlib.font_manager as fm \n",
    "\n",
    "fm.findSystemFonts(fontpaths=None, fontext='ttf')[:5]"
   ]
  },
  {
   "cell_type": "markdown",
   "metadata": {},
   "source": [
    "### Adding fonts "
   ]
  },
  {
   "cell_type": "markdown",
   "metadata": {},
   "source": [
    "#### Without installation"
   ]
  },
  {
   "cell_type": "markdown",
   "metadata": {},
   "source": [
    "If I have downloaded custom fonts, e.g. Fredoka from Google Fonts, I can do: "
   ]
  },
  {
   "cell_type": "code",
   "execution_count": null,
   "metadata": {},
   "outputs": [],
   "source": [
    "font_dir = ['.'] # directory where I stored the freshly downloaded fonts \n",
    "for font in fm.findSystemFonts(font_dir):\n",
    "    print(font)\n",
    "    fm.fontManager.addfont(font)"
   ]
  },
  {
   "cell_type": "code",
   "execution_count": null,
   "metadata": {},
   "outputs": [],
   "source": [
    "fm.fontManager.findfont('Fredoka')"
   ]
  },
  {
   "cell_type": "markdown",
   "metadata": {},
   "source": [
    "#### with installation"
   ]
  },
  {
   "cell_type": "markdown",
   "metadata": {},
   "source": [
    "If I install a font, sometimes the font cache needs to be rebuilt: "
   ]
  },
  {
   "cell_type": "code",
   "execution_count": null,
   "metadata": {},
   "outputs": [],
   "source": [
    "fm._load_fontmanager(try_read_cache=False)"
   ]
  },
  {
   "cell_type": "markdown",
   "metadata": {},
   "source": [
    "Most likely the notebook needs to be restarted (this changes between OS and mpl versions)"
   ]
  },
  {
   "cell_type": "markdown",
   "metadata": {},
   "source": [
    "### Using fonts"
   ]
  },
  {
   "cell_type": "markdown",
   "metadata": {},
   "source": [
    "#### in rc params"
   ]
  },
  {
   "cell_type": "code",
   "execution_count": null,
   "metadata": {},
   "outputs": [],
   "source": [
    "font_rc = {'font.family': 'Fredoka', 'font.size': 14}\n",
    "\n",
    "with plt.rc_context(rc=font_rc):\n",
    "    f, ax = plt.subplots()\n",
    "    ax.scatter(x=data['flipper_length_mm'], y=data['body_mass_g']);\n",
    "    ax.axhline(4000)\n",
    "    ax.set_title('I am a title')"
   ]
  },
  {
   "cell_type": "markdown",
   "metadata": {},
   "source": [
    "You can also set global `rcParams` with the font name, of course"
   ]
  },
  {
   "cell_type": "markdown",
   "metadata": {},
   "source": [
    "#### using `FontProperties`"
   ]
  },
  {
   "cell_type": "markdown",
   "metadata": {},
   "source": [
    "You can also use FontProperties objects with installed fonts or even fonts that are just a ttf file:"
   ]
  },
  {
   "cell_type": "code",
   "execution_count": null,
   "metadata": {},
   "outputs": [],
   "source": [
    "from pathlib import Path\n",
    "\n",
    "title_font = mpl.font_manager.FontProperties(\n",
    "            fname=Path(\"./Silkscreen-Regular.ttf\"), size=30)\n",
    "\n",
    "f, ax = plt.subplots()\n",
    "ax.scatter(x=data['flipper_length_mm'], y=data['body_mass_g']);\n",
    "ax.axhline(4000)\n",
    "ax.set_title('I am a title', fontproperties=title_font)"
   ]
  },
  {
   "cell_type": "code",
   "execution_count": null,
   "metadata": {},
   "outputs": [],
   "source": [
    "type(title_font)"
   ]
  },
  {
   "cell_type": "markdown",
   "metadata": {},
   "source": [
    "The API is still a bit inconsistent, but FontProperties can be used across many different mpl objects: "
   ]
  },
  {
   "cell_type": "markdown",
   "metadata": {},
   "source": [
    "```\n",
    "ax.annotate('Something interesting here', \n",
    "            xy = (0.5,0.5), xycoords=ax,\n",
    "            fontproperties=custom_font,)\n",
    "\n",
    "f.suptitle('Nice title', \n",
    "            fontproperties=custom_font, )\n",
    "\n",
    "for tick in ax.get_yticklabels():\n",
    "    tick.set_font_properties(custom_font)\n",
    "\n",
    "ax.legend(handles=handles, prop=custom_font)\n",
    "```"
   ]
  },
  {
   "cell_type": "markdown",
   "metadata": {},
   "source": [
    "___"
   ]
  },
  {
   "cell_type": "markdown",
   "metadata": {},
   "source": [
    "# Bonus: styling Markdown in Jupyter notebooks"
   ]
  },
  {
   "cell_type": "markdown",
   "metadata": {},
   "source": [
    "You can include <span style=\"background: red; color: white; font-weight: bold; padding: 1ex\">colorful styled span elements</span> in the markdown cells! "
   ]
  },
  {
   "cell_type": "markdown",
   "metadata": {},
   "source": [
    "Or print html text with properties relating to your variables: "
   ]
  },
  {
   "cell_type": "code",
   "execution_count": null,
   "metadata": {},
   "outputs": [],
   "source": [
    "species_styles = {\n",
    "    'Adelie': {'color': 'tomato', 's': 100, 'alpha': 0.5}, \n",
    "    'Chinstrap': {'color': 'dodgerblue', 'marker': 'v'}, \n",
    "    'Gentoo': {'color': 'darkgray', 'edgecolor':'black'}\n",
    "}"
   ]
  },
  {
   "cell_type": "code",
   "execution_count": null,
   "metadata": {},
   "outputs": [],
   "source": [
    "from IPython.display import display, HTML\n",
    "display(HTML(f'<h1 style=\"background: {species_styles[\"Chinstrap\"][\"color\"]}; color: {species_styles[\"Adelie\"][\"color\"]};\">Hello, styled text!</h1>'))"
   ]
  },
  {
   "cell_type": "markdown",
   "metadata": {},
   "source": [
    "We will learn more about it once we learn how to use Quarto."
   ]
  }
 ],
 "metadata": {
  "hide_input": false,
  "kernelspec": {
   "display_name": "hslu_hs23",
   "language": "python",
   "name": "hslu_hs23"
  },
  "language_info": {
   "codemirror_mode": {
    "name": "ipython",
    "version": 3
   },
   "file_extension": ".py",
   "mimetype": "text/x-python",
   "name": "python",
   "nbconvert_exporter": "python",
   "pygments_lexer": "ipython3",
   "version": "3.9.18"
  }
 },
 "nbformat": 4,
 "nbformat_minor": 4
}
