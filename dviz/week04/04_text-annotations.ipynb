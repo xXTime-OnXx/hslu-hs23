{
 "cells": [
  {
   "cell_type": "code",
   "execution_count": null,
   "metadata": {},
   "outputs": [],
   "source": [
    "import pandas as pd \n",
    "import numpy as np \n",
    "import seaborn as sns\n",
    "import matplotlib.pyplot as plt "
   ]
  },
  {
   "cell_type": "code",
   "execution_count": null,
   "metadata": {},
   "outputs": [],
   "source": [
    "plt.rcParams['figure.figsize'] = (4,3)"
   ]
  },
  {
   "cell_type": "code",
   "execution_count": null,
   "metadata": {},
   "outputs": [],
   "source": [
    "data = sns.load_dataset('penguins')"
   ]
  },
  {
   "cell_type": "markdown",
   "metadata": {},
   "source": [
    "___"
   ]
  },
  {
   "cell_type": "markdown",
   "metadata": {},
   "source": [
    "# Text and annotations "
   ]
  },
  {
   "cell_type": "markdown",
   "metadata": {},
   "source": [
    "## Using `Text`"
   ]
  },
  {
   "cell_type": "markdown",
   "metadata": {},
   "source": [
    "#### place a text at a x,y position"
   ]
  },
  {
   "cell_type": "markdown",
   "metadata": {},
   "source": [
    "We add text objects to the axes directly"
   ]
  },
  {
   "cell_type": "markdown",
   "metadata": {},
   "source": [
    "https://matplotlib.org/stable/api/_as_gen/matplotlib.axes.Axes.text.html"
   ]
  },
  {
   "cell_type": "code",
   "execution_count": null,
   "metadata": {},
   "outputs": [],
   "source": [
    "f, ax = plt.subplots()\n",
    "ax.scatter(x=data['flipper_length_mm'], y=data['body_mass_g']); \n",
    "\n",
    "pointx = 180\n",
    "pointy = 5500\n",
    "\n",
    "# make a mark at a particular x,y \n",
    "ax.scatter(x=pointx, y=pointy, color='orange', marker='+', s=100)\n",
    "\n",
    "# place a text at the same x,y\n",
    "text1 = ax.text(pointx, pointy, \"point ({},{})\".format(pointx, pointy))"
   ]
  },
  {
   "cell_type": "markdown",
   "metadata": {},
   "source": [
    "We can call the alignment of the text in respect to x,y directly in the function: "
   ]
  },
  {
   "cell_type": "code",
   "execution_count": null,
   "metadata": {},
   "outputs": [],
   "source": [
    "f, ax = plt.subplots()\n",
    "ax.scatter(x=data['flipper_length_mm'], y=data['body_mass_g']); \n",
    "\n",
    "pointx = 180\n",
    "pointy = 5500\n",
    "\n",
    "ax.scatter(x=pointx, y=pointy, color='orange', marker='+', s=100)\n",
    "text1 = ax.text(pointx, pointy, \"point ({},{})\".format(pointx, pointy), \n",
    "                ha='center', va='bottom')"
   ]
  },
  {
   "cell_type": "markdown",
   "metadata": {},
   "source": [
    "#### rotate and style the text "
   ]
  },
  {
   "cell_type": "code",
   "execution_count": null,
   "metadata": {},
   "outputs": [],
   "source": [
    "f, ax = plt.subplots()\n",
    "ax.scatter(x=data['flipper_length_mm'], y=data['body_mass_g']); \n",
    "\n",
    "pointx = 180\n",
    "pointy = 5500\n",
    "ax.scatter(x=pointx, y=pointy, color='orange', marker='+', s=100)\n",
    "text1 = ax.text(x=pointx, y=pointy, s=\"point ({},{})\".format(pointx, pointy), \n",
    "               fontsize=16, rotation=30, fontstyle='italic', fontweight='bold')\n"
   ]
  },
  {
   "cell_type": "markdown",
   "metadata": {},
   "source": [
    "#### multi-line text "
   ]
  },
  {
   "cell_type": "markdown",
   "metadata": {},
   "source": [
    "Multiline text needs to be wrapped manually :( We can do it by hand by inserting `\\n` or we can use `textwrap`\n",
    "https://docs.python.org/3/library/textwrap.html#module-textwrap (it's built-in in Python)"
   ]
  },
  {
   "cell_type": "code",
   "execution_count": null,
   "metadata": {},
   "outputs": [],
   "source": [
    "from textwrap import fill as tw_fill\n",
    "\n",
    "very_long_text = 'This is a really really long annotation that we need to squeeze in a tiny bbox'\n",
    "wrapped_text = tw_fill(very_long_text, width=25)\n",
    "wrapped_text"
   ]
  },
  {
   "cell_type": "code",
   "execution_count": null,
   "metadata": {},
   "outputs": [],
   "source": [
    "f, ax = plt.subplots()\n",
    "ax.scatter(x=data['flipper_length_mm'], y=data['body_mass_g']); \n",
    "\n",
    "text1 = ax.text(x=0.5, y=0.5, transform=ax.transAxes, # relative position \n",
    "                ha='center', va='center', # position refers to the middle of the textbox \n",
    "                s=wrapped_text)"
   ]
  },
  {
   "cell_type": "markdown",
   "metadata": {},
   "source": [
    "#### styling the text and its background "
   ]
  },
  {
   "cell_type": "code",
   "execution_count": null,
   "metadata": {},
   "outputs": [],
   "source": [
    "import matplotlib.patheffects as path_effects\n",
    "\n",
    "f, ax = plt.subplots()\n",
    "ax.scatter(x=data['flipper_length_mm'], y=data['body_mass_g']); \n",
    "\n",
    "text1 = ax.text(x=0.5, y=0.5, transform=ax.transAxes, # relative position \n",
    "                horizontalalignment='center', verticalalignment='center', # position refers to the middle of the textbox \n",
    "                s=wrapped_text, # the text string \n",
    "                multialignment='right', # aligning the many lines \n",
    "                color='yellow', size=12, fontweight='bold', # customize the font \n",
    "                 bbox={'alpha':0.5, 'facecolor':'green', 'boxstyle':'square,pad=1'} # customize the style of the background box \n",
    "               )\n",
    "\n",
    "text1.set_path_effects([path_effects.Stroke(linewidth=3, foreground='black'),\n",
    "                       path_effects.Normal()]) # fancy path outline\n"
   ]
  },
  {
   "cell_type": "markdown",
   "metadata": {},
   "source": [
    "This is useful e.g. to place watermarks on images "
   ]
  },
  {
   "cell_type": "markdown",
   "metadata": {},
   "source": [
    "More on path effects: https://matplotlib.org/stable/tutorials/advanced/patheffects_guide.html "
   ]
  },
  {
   "cell_type": "markdown",
   "metadata": {},
   "source": [
    "### Using `ax.annotate`"
   ]
  },
  {
   "cell_type": "markdown",
   "metadata": {},
   "source": [
    "#### difference between ax.text and ax.annotate"
   ]
  },
  {
   "cell_type": "markdown",
   "metadata": {},
   "source": [
    "It's basically a text with an arrow. But with a different API :( "
   ]
  },
  {
   "cell_type": "code",
   "execution_count": null,
   "metadata": {},
   "outputs": [],
   "source": [
    "f, ax = plt.subplots()\n",
    "ax.scatter(x=data['flipper_length_mm'], y=data['body_mass_g']); \n",
    "\n",
    "# step 1: let's make two points \n",
    "\n",
    "pointx = 180\n",
    "pointy = 5500\n",
    "ax.scatter(x=pointx, y=pointy, color='orange', marker='+', s=100)\n",
    "\n",
    "anno1 = ax.annotate(xy=(pointx, pointy), text=\"point ({},{})\".format(pointx, pointy)) \n",
    "text1 = ax.text(x=pointx, y=pointy, s=\"point ({},{})\".format(pointx, pointy)) \n",
    "## anno1 and text1 produce the same result\n"
   ]
  },
  {
   "cell_type": "markdown",
   "metadata": {},
   "source": [
    "#### placing an annotation of a one data point at a different point "
   ]
  },
  {
   "cell_type": "code",
   "execution_count": null,
   "metadata": {},
   "outputs": [],
   "source": [
    "f, ax = plt.subplots()\n",
    "ax.scatter(x=data['flipper_length_mm'], y=data['body_mass_g']); \n",
    "\n",
    "# step 1: let's make two points \n",
    "\n",
    "pointx = 180\n",
    "pointy = 5500\n",
    "ax.scatter(x=pointx, y=pointy, color='orange', marker='+', s=100)\n",
    "\n",
    "# anno1 = ax.annotate(xy=(pointx, pointy), text=\"point ({},{})\".format(pointx, pointy)) \n",
    "# text1 = ax.text(x=pointx, y=pointy, s=\"point ({},{})\".format(pointx, pointy)) \n",
    "## anno1 and text1 produce the same result\n",
    "\n",
    "annox = 200 \n",
    "annoy = 6000\n",
    "ax.scatter(x=annox, y=annoy, color='red', marker='+', s=100)\n",
    "\n",
    "\n",
    "# step 2: let's make an Annotation between those two points \n",
    "\n",
    "anno2 = ax.annotate(xy=(pointx, pointy), text=\"second annotation\", \n",
    "                   xytext=(annox,annoy), \n",
    "                   arrowprops=dict(facecolor='black', width=10, headwidth=18)) "
   ]
  },
  {
   "cell_type": "markdown",
   "metadata": {},
   "source": [
    "#### curved arrows "
   ]
  },
  {
   "cell_type": "code",
   "execution_count": null,
   "metadata": {},
   "outputs": [],
   "source": [
    "f, ax = plt.subplots()\n",
    "ax.scatter(x=data['flipper_length_mm'], y=data['body_mass_g']); \n",
    "\n",
    "pointx = 180\n",
    "pointy = 5500\n",
    "ax.scatter(x=pointx, y=pointy, color='orange', marker='+', s=100)\n",
    "\n",
    "annox = 200 \n",
    "annoy = 6000\n",
    "ax.scatter(x=annox, y=annoy, color='red', marker='+', s=100)\n",
    "\n",
    "\n",
    "anno2 = ax.annotate(xy=(pointx, pointy), text=\"second annotation\", \n",
    "                   xytext=(annox,annoy), \n",
    "                 arrowprops=dict(arrowstyle=\"->\", connectionstyle=\"arc3,rad=0.8\"),)"
   ]
  },
  {
   "cell_type": "markdown",
   "metadata": {},
   "source": [
    "the arrow starts in a weird spot - in the middle of the text! What is happening? How to fix this? "
   ]
  },
  {
   "cell_type": "markdown",
   "metadata": {},
   "source": [
    "Move the center of the text to the red point: "
   ]
  },
  {
   "cell_type": "code",
   "execution_count": null,
   "metadata": {},
   "outputs": [],
   "source": [
    "f, ax = plt.subplots()\n",
    "ax.scatter(x=data['flipper_length_mm'], y=data['body_mass_g']); \n",
    "\n",
    "pointx = 180\n",
    "pointy = 5500\n",
    "ax.scatter(x=pointx, y=pointy, color='orange', marker='+', s=100)\n",
    "\n",
    "annox = 200 \n",
    "annoy = 6000\n",
    "ax.scatter(x=annox, y=annoy, color='red', marker='+', s=100)\n",
    "\n",
    "anno2 = ax.annotate(xy=(pointx, pointy), text=\"second annotation\", \n",
    "                   xytext=(annox,annoy), \n",
    "                    ha='center', va='center', # move the center of the annotation to the point \n",
    "                   arrowprops=dict(arrowstyle=\"->\", connectionstyle=\"arc3,rad=0.8\"), \n",
    "                   zorder=99) "
   ]
  },
  {
   "cell_type": "markdown",
   "metadata": {},
   "source": [
    "More on fancy arrows: \n",
    "https://matplotlib.org/stable/tutorials/text/annotations.html#advanced-annotations \n",
    "https://matplotlib.org/stable/gallery/text_labels_and_annotations/arrow_demo.html"
   ]
  },
  {
   "cell_type": "markdown",
   "metadata": {},
   "source": [
    "#### many arrows "
   ]
  },
  {
   "cell_type": "markdown",
   "metadata": {},
   "source": [
    "If you need many arrows starting from a given point: draw arrows and text separately"
   ]
  },
  {
   "cell_type": "code",
   "execution_count": null,
   "metadata": {},
   "outputs": [],
   "source": [
    "f, ax = plt.subplots()\n",
    "ax.scatter(x=data['flipper_length_mm'], y=data['body_mass_g']); \n",
    "\n",
    "pointx = 180\n",
    "pointy = 5500\n",
    "ax.scatter(x=pointx, y=pointy, color='orange', marker='+', s=100)\n",
    "\n",
    "annox = 200 \n",
    "annoy = 6000\n",
    "ax.scatter(x=annox, y=annoy, color='red', marker='+', s=100)\n",
    "\n",
    "anno2 = ax.annotate(xy=(pointx, pointy), text=\"\", \n",
    "                   xytext=(annox,annoy),  \n",
    "                   arrowprops=dict(arrowstyle=\"->\", connectionstyle=\"arc3,rad=0.8\"), \n",
    "                   zorder=99) \n",
    "\n",
    "anno3 = ax.annotate(xy=(pointx, pointy), text=\"\", \n",
    "                   xytext=(annox,annoy),  \n",
    "                   arrowprops=dict(arrowstyle=\"->\", connectionstyle=\"arc3,rad=-0.2\", ec='green'), \n",
    "                   zorder=99) \n",
    "\n",
    "annotext = ax.text(x=annox, y=annoy, s=\"the arrows start here\")"
   ]
  },
  {
   "cell_type": "markdown",
   "metadata": {},
   "source": [
    "___"
   ]
  }
 ],
 "metadata": {
  "hide_input": false,
  "kernelspec": {
   "display_name": "hslu_hs23",
   "language": "python",
   "name": "hslu_hs23"
  },
  "language_info": {
   "codemirror_mode": {
    "name": "ipython",
    "version": 3
   },
   "file_extension": ".py",
   "mimetype": "text/x-python",
   "name": "python",
   "nbconvert_exporter": "python",
   "pygments_lexer": "ipython3",
   "version": "3.9.18"
  }
 },
 "nbformat": 4,
 "nbformat_minor": 4
}
