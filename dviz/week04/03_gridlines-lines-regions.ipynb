{
 "cells": [
  {
   "cell_type": "code",
   "execution_count": null,
   "metadata": {},
   "outputs": [],
   "source": [
    "import pandas as pd \n",
    "import numpy as np \n",
    "import seaborn as sns\n",
    "import matplotlib.pyplot as plt "
   ]
  },
  {
   "cell_type": "code",
   "execution_count": null,
   "metadata": {},
   "outputs": [],
   "source": [
    "plt.rcParams['figure.figsize'] = (4,3)"
   ]
  },
  {
   "cell_type": "code",
   "execution_count": null,
   "metadata": {},
   "outputs": [],
   "source": [
    "data = sns.load_dataset('penguins')"
   ]
  },
  {
   "cell_type": "markdown",
   "metadata": {},
   "source": [
    "# Gridlines and reference lines "
   ]
  },
  {
   "cell_type": "markdown",
   "metadata": {},
   "source": [
    "## Custom gridlines "
   ]
  },
  {
   "cell_type": "markdown",
   "metadata": {},
   "source": [
    "We will use `ax.grid`"
   ]
  },
  {
   "cell_type": "markdown",
   "metadata": {},
   "source": [
    "Gridlines can be customized on both axis separately, the same for major and minor ticks"
   ]
  },
  {
   "cell_type": "code",
   "execution_count": null,
   "metadata": {},
   "outputs": [],
   "source": [
    "f, ax = plt.subplots()\n",
    "\n",
    "ax.grid(axis=\"x\", color=\"red\", linestyle=\"--\", linewidth=5)\n",
    "ax.grid(axis=\"y\", color=\"lightgray\", linestyle=\":\", linewidth=1)\n",
    "\n",
    "ax.scatter(x=data['flipper_length_mm'], y=data['body_mass_g'], );\n"
   ]
  },
  {
   "cell_type": "markdown",
   "metadata": {},
   "source": [
    "Notice what overlaps what "
   ]
  },
  {
   "cell_type": "markdown",
   "metadata": {},
   "source": [
    "To move them to the background - use `zorder` to bring the scatter to the foreground. "
   ]
  },
  {
   "cell_type": "code",
   "execution_count": null,
   "metadata": {},
   "outputs": [],
   "source": [
    "f, ax = plt.subplots()\n",
    "ax.scatter(x=data['flipper_length_mm'], y=data['body_mass_g'], \n",
    "           zorder=99);\n",
    "ax.grid(axis=\"x\", color=\"red\", linestyle=\"--\", linewidth=5)"
   ]
  },
  {
   "cell_type": "markdown",
   "metadata": {},
   "source": [
    "Having white grid on the top is sometimes useful for a bar chart visualization"
   ]
  },
  {
   "cell_type": "code",
   "execution_count": null,
   "metadata": {},
   "outputs": [],
   "source": [
    "f, ax = plt.subplots(figsize=(6,3), ncols=2)\n",
    "\n",
    "ax[0].bar(x=[1,2], height=[10.5,12], zorder=99);\n",
    "ax[0].grid(axis=\"y\", color=\"gray\", linewidth=1)\n",
    "\n",
    "ax[1].bar(x=[1,2], height=[10.5,12]);\n",
    "ax[1].grid(axis=\"y\", color=\"white\", linewidth=1)"
   ]
  },
  {
   "cell_type": "markdown",
   "metadata": {},
   "source": [
    "## Drawing arbitrary lines "
   ]
  },
  {
   "cell_type": "markdown",
   "metadata": {},
   "source": [
    "#### horizontal and vertical lines "
   ]
  },
  {
   "cell_type": "markdown",
   "metadata": {},
   "source": [
    "`ax.axhline` and `axvline` will draw one line across the whole chart area at a data coordinate "
   ]
  },
  {
   "cell_type": "code",
   "execution_count": null,
   "metadata": {},
   "outputs": [],
   "source": [
    "f, ax = plt.subplots()\n",
    "ax.scatter(x=data['flipper_length_mm'], y=data['body_mass_g']);\n",
    "ax.axhline(4000, color='gray', linewidth=2)\n",
    "ax.axvline(200, color='orange', linewidth=1)"
   ]
  },
  {
   "cell_type": "markdown",
   "metadata": {},
   "source": [
    "#### diagonal lines"
   ]
  },
  {
   "cell_type": "markdown",
   "metadata": {},
   "source": [
    "Option 1: Plot a diagonal line using `ax.plot`"
   ]
  },
  {
   "cell_type": "code",
   "execution_count": null,
   "metadata": {},
   "outputs": [],
   "source": [
    "f, ax = plt.subplots()\n",
    "ax.scatter(x=data['flipper_length_mm'], y=data['body_mass_g']);\n",
    "\n",
    "# get the limits\n",
    "xlims = ax.get_xlim()\n",
    "ylims = ax.get_ylim()\n",
    "\n",
    "# # # plot the line - this will re-compute the limits\n",
    "ax.plot(xlims, ylims, )\n",
    "\n",
    "# # bring back the limits to initial values\n",
    "ax.set_xlim(xlims)\n",
    "ax.set_ylim(ylims)"
   ]
  },
  {
   "cell_type": "markdown",
   "metadata": {},
   "source": [
    "Alternative: draw a line using axes coordinates"
   ]
  },
  {
   "cell_type": "code",
   "execution_count": null,
   "metadata": {},
   "outputs": [],
   "source": [
    "f, ax = plt.subplots()\n",
    "ax.scatter(x=data['flipper_length_mm'], y=data['body_mass_g']);\n",
    "\n",
    "# ax.transAxes makes the ax.plot use normalized axes coordinates, and not data coordinates\n",
    "ax.plot([0, 1], [0, 1], transform=ax.transAxes) # diagonal line"
   ]
  },
  {
   "cell_type": "markdown",
   "metadata": {},
   "source": [
    "___"
   ]
  },
  {
   "cell_type": "markdown",
   "metadata": {},
   "source": [
    "# Annotating regions"
   ]
  },
  {
   "cell_type": "markdown",
   "metadata": {},
   "source": [
    "### Rectangular areas across the axes"
   ]
  },
  {
   "cell_type": "code",
   "execution_count": null,
   "metadata": {},
   "outputs": [],
   "source": [
    "f, ax = plt.subplots()\n",
    "b = ax.scatter(x=data['flipper_length_mm'], y=data['body_mass_g']); \n",
    "# default zorder is 1 -> check using b.get_zorder()\n",
    "\n",
    "ax.axhspan(4000, 5000, color=\"lightgray\", zorder=0) # data coordinates "
   ]
  },
  {
   "cell_type": "markdown",
   "metadata": {},
   "source": [
    "The rectangle can be shrinked: "
   ]
  },
  {
   "cell_type": "code",
   "execution_count": null,
   "metadata": {},
   "outputs": [],
   "source": [
    "f, ax = plt.subplots()\n",
    "ax.scatter(x=data['flipper_length_mm'], y=data['body_mass_g']); \n",
    "\n",
    "ax.axvspan(210, 220, ymin=0.1, ymax=0.9, color=\"sienna\", zorder=9, alpha=0.85) # defaults in mixed coordinates... annoying "
   ]
  },
  {
   "cell_type": "markdown",
   "metadata": {},
   "source": [
    "### Arbitrary rectangles and polygons "
   ]
  },
  {
   "cell_type": "markdown",
   "metadata": {},
   "source": [
    "#### Rectangle"
   ]
  },
  {
   "cell_type": "code",
   "execution_count": null,
   "metadata": {},
   "outputs": [],
   "source": [
    "from matplotlib.patches import Rectangle \n",
    "\n",
    "f, ax = plt.subplots()\n",
    "ax.scatter(x=data['flipper_length_mm'], y=data['body_mass_g']); \n",
    "\n",
    "# add a rectangle: \n",
    "\n",
    "# step 1: define the rectangle \n",
    "ar = Rectangle(xy=(210,3000), width=10, height=3000, # data coordinates by default\n",
    "               facecolor=\"sienna\", zorder=0, \n",
    "               linewidth=1, edgecolor='k')\n",
    "\n",
    "# step 2: add the rectangle to our chart object \n",
    "ax.add_patch(ar)"
   ]
  },
  {
   "cell_type": "code",
   "execution_count": null,
   "metadata": {},
   "outputs": [],
   "source": [
    "ax.get_children()"
   ]
  },
  {
   "cell_type": "markdown",
   "metadata": {},
   "source": [
    "#### Polygon "
   ]
  },
  {
   "cell_type": "markdown",
   "metadata": {},
   "source": [
    "You can also use the same workflow to draw rectangles or other polygons on top of images"
   ]
  },
  {
   "cell_type": "code",
   "execution_count": null,
   "metadata": {},
   "outputs": [],
   "source": [
    "from matplotlib.patches import Polygon \n",
    "\n",
    "f, ax = plt.subplots()\n",
    "ax.scatter(x=data['flipper_length_mm'], y=data['body_mass_g']); \n",
    "\n",
    "path = [ (180, 4000), (200, 5000), (205, 3500), (190,2800), (180,3000)]\n",
    "\n",
    "ar = Polygon(xy=path, \n",
    "               facecolor=\"sienna\", zorder=0, \n",
    "               linewidth=1, edgecolor='k')\n",
    "ax.add_patch(ar)"
   ]
  }
 ],
 "metadata": {
  "hide_input": false,
  "kernelspec": {
   "display_name": "hslu_hs23",
   "language": "python",
   "name": "hslu_hs23"
  },
  "language_info": {
   "codemirror_mode": {
    "name": "ipython",
    "version": 3
   },
   "file_extension": ".py",
   "mimetype": "text/x-python",
   "name": "python",
   "nbconvert_exporter": "python",
   "pygments_lexer": "ipython3",
   "version": "3.9.18"
  }
 },
 "nbformat": 4,
 "nbformat_minor": 4
}
