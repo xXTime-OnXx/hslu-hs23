{
 "cells": [
  {
   "cell_type": "code",
   "execution_count": 1,
   "metadata": {},
   "outputs": [],
   "source": [
    "import pandas as pd \n",
    "import numpy as np \n",
    "import seaborn as sns\n",
    "import matplotlib.pyplot as plt "
   ]
  },
  {
   "cell_type": "markdown",
   "metadata": {},
   "source": [
    "# Exercise "
   ]
  },
  {
   "cell_type": "code",
   "execution_count": 2,
   "metadata": {},
   "outputs": [],
   "source": [
    "# import pandas as pd \n",
    "\n",
    "# d = pd.read_csv('apple_data.csv', delimiter=';')\n",
    "\n",
    "# d['Date'] = pd.PeriodIndex(d['Quarter'].str.split(' ').apply(lambda x: ''.join(x[::-1])), freq='Q').to_timestamp()\n",
    "\n",
    "# for c in ['iPhone','iPad','Mac','iPod']: \n",
    "#     d[c] = d[c].str.replace(',','.').astype(float)\n",
    "\n",
    "# d.to_csv('apple_data_clean.csv', index=False)"
   ]
  },
  {
   "cell_type": "markdown",
   "metadata": {},
   "source": [
    "Task: recreate this visualization (without making the lines curved): \n",
    "\n",
    "<img src='VAHvu-iphone-more-successful-than-all-other-apple-products.png' width=\"600\" height=\"400\">\n"
   ]
  },
  {
   "cell_type": "markdown",
   "metadata": {},
   "source": [
    "https://app.datawrapper.de/chart/0192x/visualize?tpl=orzoM"
   ]
  },
  {
   "cell_type": "markdown",
   "metadata": {},
   "source": [
    "If you use Matplotlib for handling the datetime, see https://matplotlib.org/stable/gallery/text_labels_and_annotations/date.html "
   ]
  },
  {
   "cell_type": "code",
   "execution_count": 3,
   "metadata": {},
   "outputs": [],
   "source": [
    "d = pd.read_csv('apple_data_clean.csv')"
   ]
  },
  {
   "cell_type": "code",
   "execution_count": 4,
   "metadata": {},
   "outputs": [
    {
     "data": {
      "text/html": [
       "<div>\n",
       "<style scoped>\n",
       "    .dataframe tbody tr th:only-of-type {\n",
       "        vertical-align: middle;\n",
       "    }\n",
       "\n",
       "    .dataframe tbody tr th {\n",
       "        vertical-align: top;\n",
       "    }\n",
       "\n",
       "    .dataframe thead th {\n",
       "        text-align: right;\n",
       "    }\n",
       "</style>\n",
       "<table border=\"1\" class=\"dataframe\">\n",
       "  <thead>\n",
       "    <tr style=\"text-align: right;\">\n",
       "      <th></th>\n",
       "      <th>Quarter</th>\n",
       "      <th>iPhone</th>\n",
       "      <th>iPad</th>\n",
       "      <th>Mac</th>\n",
       "      <th>iPod</th>\n",
       "      <th>Date</th>\n",
       "    </tr>\n",
       "  </thead>\n",
       "  <tbody>\n",
       "    <tr>\n",
       "      <th>0</th>\n",
       "      <td>Q3 2000</td>\n",
       "      <td>NaN</td>\n",
       "      <td>NaN</td>\n",
       "      <td>1.1</td>\n",
       "      <td>NaN</td>\n",
       "      <td>2000-07-01</td>\n",
       "    </tr>\n",
       "    <tr>\n",
       "      <th>1</th>\n",
       "      <td>Q4 2000</td>\n",
       "      <td>NaN</td>\n",
       "      <td>NaN</td>\n",
       "      <td>0.6</td>\n",
       "      <td>NaN</td>\n",
       "      <td>2000-10-01</td>\n",
       "    </tr>\n",
       "    <tr>\n",
       "      <th>2</th>\n",
       "      <td>Q1 2001</td>\n",
       "      <td>NaN</td>\n",
       "      <td>NaN</td>\n",
       "      <td>0.7</td>\n",
       "      <td>NaN</td>\n",
       "      <td>2001-01-01</td>\n",
       "    </tr>\n",
       "    <tr>\n",
       "      <th>3</th>\n",
       "      <td>Q2 2001</td>\n",
       "      <td>NaN</td>\n",
       "      <td>NaN</td>\n",
       "      <td>0.8</td>\n",
       "      <td>NaN</td>\n",
       "      <td>2001-04-01</td>\n",
       "    </tr>\n",
       "    <tr>\n",
       "      <th>4</th>\n",
       "      <td>Q3 2001</td>\n",
       "      <td>NaN</td>\n",
       "      <td>NaN</td>\n",
       "      <td>0.8</td>\n",
       "      <td>NaN</td>\n",
       "      <td>2001-07-01</td>\n",
       "    </tr>\n",
       "  </tbody>\n",
       "</table>\n",
       "</div>"
      ],
      "text/plain": [
       "   Quarter  iPhone  iPad  Mac  iPod        Date\n",
       "0  Q3 2000     NaN   NaN  1.1   NaN  2000-07-01\n",
       "1  Q4 2000     NaN   NaN  0.6   NaN  2000-10-01\n",
       "2  Q1 2001     NaN   NaN  0.7   NaN  2001-01-01\n",
       "3  Q2 2001     NaN   NaN  0.8   NaN  2001-04-01\n",
       "4  Q3 2001     NaN   NaN  0.8   NaN  2001-07-01"
      ]
     },
     "execution_count": 4,
     "metadata": {},
     "output_type": "execute_result"
    }
   ],
   "source": [
    "d.head()"
   ]
  },
  {
   "cell_type": "code",
   "execution_count": 5,
   "metadata": {},
   "outputs": [],
   "source": [
    "def quarter_to_num(q):\n",
    "    qs = q.split(' ')\n",
    "    year = qs[1]\n",
    "    qnum = qs[0][-1]\n",
    "    qfrac = (float(qnum)-1)/4\n",
    "    return float(year)+qfrac"
   ]
  },
  {
   "cell_type": "code",
   "execution_count": 6,
   "metadata": {},
   "outputs": [],
   "source": [
    "d['Quarter_hacked'] = d['Quarter'].apply(quarter_to_num)"
   ]
  },
  {
   "cell_type": "code",
   "execution_count": 7,
   "metadata": {},
   "outputs": [],
   "source": [
    "d['Date_dt'] = pd.to_datetime(d['Date'])"
   ]
  },
  {
   "cell_type": "code",
   "execution_count": 8,
   "metadata": {},
   "outputs": [
    {
     "data": {
      "image/png": "[encoded data removed]",
      "text/plain": [
       "<Figure size 576x288 with 1 Axes>"
      ]
     },
     "metadata": {
      "needs_background": "dark"
     },
     "output_type": "display_data"
    }
   ],
   "source": [
    "highlighted = {'color':'darkred', 'linewidth': 3, 'zorder':9}\n",
    "other = {'color':'gray', 'linewidth':1}\n",
    "\n",
    "to_hl = 'iPhone'\n",
    "\n",
    "font_rc = {'font.family': 'Roboto', 'font.stretch':'expanded'}\n",
    "\n",
    "with plt.rc_context(rc=font_rc):\n",
    "\n",
    "    f, ax = plt.subplots(figsize=(8,4))\n",
    "\n",
    "    lines = []\n",
    "    texts = []\n",
    "\n",
    "    ax.set_xlim(2003, 2015)\n",
    "    ax.set_ylim([0,78]);\n",
    "\n",
    "    for c in ['iPhone', 'iPad', 'iPod']:\n",
    "        if c==to_hl:\n",
    "            style = highlighted\n",
    "        else: \n",
    "            style = other\n",
    "        l = ax.plot(d['Quarter_hacked'], d[c], **style)\n",
    "        last_marker = d[['Quarter_hacked',c]].dropna().iloc[-1]\n",
    "        ax.scatter(x=last_marker['Quarter_hacked'], y=last_marker[c], \n",
    "                   color=style['color'], marker='o')\n",
    "        textx = max(ax.get_xlim())\n",
    "        t = ax.text(x=textx, y=last_marker[c], s=c, color=style['color'], \n",
    "                   ha='left', va='center')\n",
    "        lines.append(l)\n",
    "        texts.append(t)\n",
    "        if c=='iPod':\n",
    "            ax.plot([last_marker['Quarter_hacked'], textx], [last_marker[c], last_marker[c]], \n",
    "                   color=style['color'], linestyle='--', linewidth=0.5)\n",
    "\n",
    "    for s in ['left', 'top', 'right']:\n",
    "        ax.spines[s].set_visible(False) \n",
    "\n",
    "    ax.spines['bottom'].set_color('black')\n",
    "    ax.spines['bottom'].set_linewidth(1)\n",
    "\n",
    "    ax.grid(axis=\"y\", color=\"lightgray\", linestyle=\"-\", linewidth=0.5)\n",
    "\n",
    "    ax.tick_params(axis='both', width=0)\n",
    "\n",
    "    from matplotlib.ticker import MultipleLocator \n",
    "\n",
    "    ax.yaxis.set_major_locator(MultipleLocator(10))\n",
    "\n",
    "    xticks = np.arange(2004,2015,1)\n",
    "    ax.set_xticks(xticks)\n",
    "\n",
    "    ax.tick_params(axis='x', which='major', \n",
    "                   labelcolor=\"gray\") \n",
    "    ax.tick_params(axis='y', which='major', \n",
    "                   labelcolor=\"lightgray\") \n",
    "\n",
    "\n",
    "    title1 = ax.set_title('Title', pad=24, loc='left', fontsize=20, fontweight=\"bold\");\n",
    "    subtitle1 = ax.annotate(xy=(0,-0.2), text=\"Subtitle\", \n",
    "                       xycoords=title1,  ha='left', va='top', fontsize=12) \n",
    "\n",
    "    footnote1 = ax.text(x=0, y=-0.15, s='Footnote', \n",
    "                        transform=ax.transAxes, ha='left', va='top', \n",
    "                       c='darkgray')\n",
    "\n",
    "\n",
    "    ax.axvspan(2010, 2010.75, color=\"lightgray\", zorder=1, alpha=0.25);\n",
    "    ax.text(x=2010.4, y=43, s='Description of\\nthe shaded area\\nspanning\\nfour lines', \n",
    "                        ha='right', va='top', \n",
    "                       c='black')\n",
    "    \n",
    "# f.savefig('reproduced.png', bbox_inches=\"tight\", dpi=300)"
   ]
  },
  {
   "cell_type": "code",
   "execution_count": null,
   "metadata": {},
   "outputs": [],
   "source": []
  }
 ],
 "metadata": {
  "kernelspec": {
   "display_name": "Python 3 (ipykernel)",
   "language": "python",
   "name": "python3"
  },
  "language_info": {
   "codemirror_mode": {
    "name": "ipython",
    "version": 3
   },
   "file_extension": ".py",
   "mimetype": "text/x-python",
   "name": "python",
   "nbconvert_exporter": "python",
   "pygments_lexer": "ipython3",
   "version": "3.11.0"
  }
 },
 "nbformat": 4,
 "nbformat_minor": 4
}
