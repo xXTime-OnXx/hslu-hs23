{
 "cells": [
  {
   "cell_type": "code",
   "execution_count": null,
   "metadata": {},
   "outputs": [],
   "source": [
    "import pandas as pd \n",
    "import numpy as np \n",
    "import seaborn as sns\n",
    "import matplotlib.pyplot as plt "
   ]
  },
  {
   "cell_type": "code",
   "execution_count": null,
   "metadata": {},
   "outputs": [],
   "source": [
    "plt.rcParams['figure.figsize'] = (4,3)"
   ]
  },
  {
   "cell_type": "code",
   "execution_count": null,
   "metadata": {},
   "outputs": [],
   "source": [
    "data = sns.load_dataset('penguins')"
   ]
  },
  {
   "cell_type": "markdown",
   "metadata": {},
   "source": [
    "___\n",
    "\n",
    "# Ticks, labels, spines"
   ]
  },
  {
   "cell_type": "markdown",
   "metadata": {},
   "source": [
    "### Where are different objects (axis, ticks, tick locations, tick labels) located "
   ]
  },
  {
   "cell_type": "markdown",
   "metadata": {},
   "source": [
    "Let's draw our figure again"
   ]
  },
  {
   "cell_type": "code",
   "execution_count": null,
   "metadata": {},
   "outputs": [],
   "source": [
    "f, ax = plt.subplots()\n",
    "ax.scatter(x=data['flipper_length_mm'], y=data['body_mass_g']);"
   ]
  },
  {
   "cell_type": "markdown",
   "metadata": {},
   "source": [
    "There are various ways to access slightly different xtick-related objects: "
   ]
  },
  {
   "cell_type": "markdown",
   "metadata": {},
   "source": [
    "Call the methods of the `axes` object: "
   ]
  },
  {
   "cell_type": "code",
   "execution_count": null,
   "metadata": {},
   "outputs": [],
   "source": [
    "print(ax.get_xticks())\n",
    "print(ax.get_xticklabels())\n",
    "print(ax.get_xticklabels()[0])\n",
    "print(ax.get_xticklabels()[0].get_text())\n",
    "print(ax.get_xticklabels()[0].get_position())"
   ]
  },
  {
   "cell_type": "markdown",
   "metadata": {},
   "source": [
    "Access the `xaxis` and `yaxis` directly: "
   ]
  },
  {
   "cell_type": "code",
   "execution_count": null,
   "metadata": {},
   "outputs": [],
   "source": [
    "print(ax.xaxis.get_major_ticks())\n",
    "print(ax.xaxis.get_major_ticks()[0].get_loc())\n",
    "print(ax.xaxis.get_major_ticks()[0].label1)"
   ]
  },
  {
   "cell_type": "markdown",
   "metadata": {},
   "source": [
    "Here I am using the `ax` object I created in the cell above - it also lives outside of the cell as a variable and contains the elements of the plot "
   ]
  },
  {
   "cell_type": "markdown",
   "metadata": {},
   "source": [
    "There are more such elements, which are \"children\" of the `ax` object: "
   ]
  },
  {
   "cell_type": "code",
   "execution_count": null,
   "metadata": {},
   "outputs": [],
   "source": [
    "ax.get_children()"
   ]
  },
  {
   "cell_type": "markdown",
   "metadata": {},
   "source": [
    "We will use many of these for customization later on. "
   ]
  },
  {
   "cell_type": "markdown",
   "metadata": {},
   "source": [
    "## Customizing tick positions and tick labels"
   ]
  },
  {
   "cell_type": "markdown",
   "metadata": {},
   "source": [
    "#### Modifying ticks by hand: "
   ]
  },
  {
   "cell_type": "markdown",
   "metadata": {},
   "source": [
    "We can feed the `ax.set_xticks`/`ax.set_yticks` function with a pre-calculated list of ticks. We can do it completely separately for major and minor ticks. If we want to adapt tick labels, we can also do it by hand "
   ]
  },
  {
   "cell_type": "code",
   "execution_count": null,
   "metadata": {},
   "outputs": [],
   "source": [
    "f, ax = plt.subplots()\n",
    "ax.scatter(x=data['flipper_length_mm'], y=data['body_mass_g']);\n",
    "\n",
    "\n",
    "## set tick positions \n",
    "\n",
    "new_xticks = [150, 183, 212, 230] # custom ticks\n",
    "ax.set_xticks(new_xticks, minor=False);\n",
    "\n",
    "new_xticks_minor = np.arange(150,251,5) # range of ticks generated using numpy \n",
    "ax.set_xticks(new_xticks_minor, minor=True);\n",
    "## major and minor ticks are independent of each other! \n",
    "\n",
    "\n",
    "## modify the labels e.g. to add a unit \n",
    "\n",
    "## in Jupyter this doesn't work: \n",
    "# old_xticklabels = ax.get_xticklabels()\n",
    "# new_xticklabels = [t.get_text()+' mm' for t in old_xticklabels]\n",
    "\n",
    "new_xticklabels = [str(t)+' mm' for t in new_xticks] \n",
    "ax.set_xticklabels(new_xticklabels);\n",
    "\n",
    "# only for demo purpose - normally you want to indicate the unit outside of the ticks, close by the xlabel, e.g. \"length [mm]\"\n",
    "# useful when plotting in radians in multiples of pi "
   ]
  },
  {
   "cell_type": "markdown",
   "metadata": {},
   "source": [
    "#### Modyfing ticks programmatically: Using the `Locator` and `Formatter`:"
   ]
  },
  {
   "cell_type": "markdown",
   "metadata": {},
   "source": [
    "MPL has a separate logic to find out the tick positions. It is better than defining ticks by hand, because for example you can say how many ticks per axis you want, or what is the multiplier etc. and you don't have to worry about the data range or the figure size. "
   ]
  },
  {
   "cell_type": "markdown",
   "metadata": {},
   "source": [
    "Those functions live in `matplotlib.ticker`, which is parallel to `matplotlib.pyplot`, so we have to import them separately. "
   ]
  },
  {
   "cell_type": "markdown",
   "metadata": {},
   "source": [
    "We add them to the `ax.xaxis` and `ax.yaxis` objects, not to the ticks themselves "
   ]
  },
  {
   "cell_type": "markdown",
   "metadata": {},
   "source": [
    "There are a couple of useful pre-defined Locators and Formatters, but we can also define our own. There is a recipe how to do that"
   ]
  },
  {
   "cell_type": "markdown",
   "metadata": {},
   "source": [
    "https://matplotlib.org/stable/api/ticker_api.html#tick-locating-and-formatting \\\n",
    "https://jakevdp.github.io/PythonDataScienceHandbook/04.10-customizing-ticks.html"
   ]
  },
  {
   "cell_type": "code",
   "execution_count": null,
   "metadata": {},
   "outputs": [],
   "source": [
    "from matplotlib.ticker import MultipleLocator, EngFormatter\n",
    "\n",
    "# create the chart \n",
    "f, ax = plt.subplots()\n",
    "ax.scatter(x=data['flipper_length_mm'], y=data['body_mass_g']);\n",
    "\n",
    "# optional: for the sake of exercise, let's extend the xaxis to show more ticks \n",
    "ax.set_xlim(150,250)\n",
    "\n",
    "\n",
    "## LOCATORS \n",
    "\n",
    "# set x-tick locations \n",
    "ax.xaxis.set_major_locator(MultipleLocator(40)) # major tick each 40 units \n",
    "ax.xaxis.set_minor_locator(MultipleLocator(5)) # minor tick each 5 units \n",
    "\n",
    "\n",
    "\n",
    "## FORMATTERS \n",
    "\n",
    "# y-axis: format thousands in the engineering notation \n",
    "ax.yaxis.set_major_formatter(EngFormatter(sep='', places=1))\n",
    "\n",
    "# x-axis: define a custom x-tick label formatting: we want a unit behind each tick \n",
    "# the formatter function must take 2 arguments and return a string \n",
    "# one of them is a dummy argument and we will set it to None \n",
    "\n",
    "# step 1: what should the formatter do with a single tick value \n",
    "def format_tick_unit(unit, x, pos=None):\n",
    "    out = str(round(x))+' '+unit\n",
    "    return out\n",
    "\n",
    "# step 2: create a formatter function to plug it into the xaxis \n",
    "format_mm = lambda x, pos: format_tick_unit('mm', x, pos)\n",
    "ax.xaxis.set_major_formatter(format_mm)"
   ]
  },
  {
   "cell_type": "markdown",
   "metadata": {},
   "source": [
    "## Customizing how ticks look and where they are"
   ]
  },
  {
   "cell_type": "markdown",
   "metadata": {},
   "source": [
    "### moving ticks around (top/bottom/left/right) and customizing their looks"
   ]
  },
  {
   "cell_type": "markdown",
   "metadata": {},
   "source": [
    "By default, the ticks are drawn on the bottom and left axis: "
   ]
  },
  {
   "cell_type": "code",
   "execution_count": null,
   "metadata": {},
   "outputs": [],
   "source": [
    "f, ax = plt.subplots()\n",
    "ax.scatter(x=data['flipper_length_mm'], y=data['body_mass_g']);\n",
    "ax.set_xlabel('flipper length [mm]');"
   ]
  },
  {
   "cell_type": "markdown",
   "metadata": {},
   "source": [
    "We can change it in a couple of ways:  \n",
    "\n",
    "- `ax.{x,y}axis.set_ticks_position(...)`\n",
    "- `ax.xaxis.tick_top()`\n",
    "- `ax.tick_params(...)`"
   ]
  },
  {
   "cell_type": "markdown",
   "metadata": {},
   "source": [
    "Ticks get moved separately from the xaxis label, and ticks and tick labels can also be switched on and off separately "
   ]
  },
  {
   "cell_type": "markdown",
   "metadata": {},
   "source": [
    "#### modify `ax.xaxis`"
   ]
  },
  {
   "cell_type": "code",
   "execution_count": null,
   "metadata": {},
   "outputs": [],
   "source": [
    "f, ax = plt.subplots()\n",
    "ax.scatter(x=data['flipper_length_mm'], y=data['body_mass_g']);\n",
    "ax.set_xlabel('flipper length [mm]')\n",
    "\n",
    "## uncomment and comment out the following lines to see what changes: \n",
    "\n",
    "# ax.xaxis.set_ticks_position('top')  # switch bottom off, top on, moves only the ticks\n",
    "# ax.xaxis.tick_top() # does the same \n",
    "# ax.xaxis.set_label_position('top') # moves only the label"
   ]
  },
  {
   "cell_type": "markdown",
   "metadata": {},
   "source": [
    "#### `ax.tick_params`"
   ]
  },
  {
   "cell_type": "markdown",
   "metadata": {},
   "source": [
    "`ax.tick_params` has a bit special API: you can either apply things to a particular subset of ticks, or to all ticks at once"
   ]
  },
  {
   "cell_type": "markdown",
   "metadata": {},
   "source": [
    "``` \n",
    "ax.tick_params(axis='x', which='major', ...) # customizing appearance of major xticks only\n",
    "ax.tick_params(bottom=False, labelbottom=False... ) # customizing appearance of ticks across spines \n",
    "```\n"
   ]
  },
  {
   "cell_type": "markdown",
   "metadata": {},
   "source": [
    "You can use it many times in a single chart "
   ]
  },
  {
   "cell_type": "markdown",
   "metadata": {},
   "source": [
    "https://matplotlib.org/stable/api/_as_gen/matplotlib.pyplot.tick_params.html"
   ]
  },
  {
   "cell_type": "code",
   "execution_count": null,
   "metadata": {},
   "outputs": [],
   "source": [
    "f, ax = plt.subplots()\n",
    "ax.scatter(x=data['flipper_length_mm'], y=data['body_mass_g']);\n",
    "ax.set_xlabel('flipper length [mm]')\n",
    "\n",
    "## uncomment one or more lines and experiment: \n",
    "\n",
    "# ax.tick_params(axis='x', which='major', right=True) # no effect, because I specified the axis and xaxis has no right/left ticks\n",
    "# ax.tick_params(right=True) # this works and automatically applies the command to the y axis\n",
    "\n",
    "# ax.tick_params(top=True, bottom=True) # only the ticks \n",
    "# ax.tick_params(labeltop=True, labelbottom=True) # only the labels"
   ]
  },
  {
   "cell_type": "markdown",
   "metadata": {},
   "source": [
    "### making ticks and tick labels colorful "
   ]
  },
  {
   "cell_type": "markdown",
   "metadata": {},
   "source": [
    "We can use `ax.tick_params` to customize the looks of our ticks, and they can be controlled on a granular way (e.g. bottom ticks different than top ticks etc.)"
   ]
  },
  {
   "cell_type": "code",
   "execution_count": null,
   "metadata": {},
   "outputs": [],
   "source": [
    "f, ax = plt.subplots()\n",
    "ax.scatter(x=data['flipper_length_mm'], y=data['body_mass_g']);\n",
    "ax.set_xlabel('flipper length [mm]')\n",
    "\n",
    "## switch on minor ticks \n",
    "\n",
    "# with a shorthand \n",
    "ax.minorticks_on() \n",
    "\n",
    "# or with a minor locator\n",
    "# from matplotlib.ticker import AutoMinorLocator # defaults to 4 or 5\n",
    "# ax.xaxis.set_minor_locator(AutoMinorLocator())\n",
    "\n",
    "\n",
    "## modify the tick directions and positions \n",
    "\n",
    "ax.tick_params(axis='x', which='major', direction=\"out\", bottom=True, top=True) \n",
    "ax.tick_params(axis='x', which='minor', bottom=True, direction=\"in\") \n",
    "ax.tick_params(axis='y', which='major', direction=\"inout\") \n",
    "ax.tick_params(axis='y', which='minor', direction=\"out\") \n",
    "\n",
    "## modify the tick line properties (thickness, color, length etc.)\n",
    "ax.tick_params(axis='y', which='major', width=3, length=12, color=\"darkgray\") \n",
    "\n",
    "## modify the tick rotation and formatting \n",
    "from matplotlib.ticker import FormatStrFormatter\n",
    "ax.xaxis.set_minor_formatter(FormatStrFormatter(\"%.1f\"))\n",
    "ax.tick_params(axis='x', which='minor', \n",
    "                    labelcolor=\"red\", labelrotation=90, \n",
    "                    labelsize=7, pad=-28) \n"
   ]
  },
  {
   "cell_type": "markdown",
   "metadata": {},
   "source": [
    "## Styling axis labels and title"
   ]
  },
  {
   "cell_type": "markdown",
   "metadata": {},
   "source": [
    "Let's go back to the simple example"
   ]
  },
  {
   "cell_type": "code",
   "execution_count": null,
   "metadata": {},
   "outputs": [],
   "source": [
    "f, ax = plt.subplots()\n",
    "ax.scatter(x=data['flipper_length_mm'], y=data['body_mass_g']);\n",
    "ax.set_xlabel('flipper length [mm]');"
   ]
  },
  {
   "cell_type": "markdown",
   "metadata": {},
   "source": [
    "We can add styling and custom position to the x and y labels at the moment of creating the label"
   ]
  },
  {
   "cell_type": "code",
   "execution_count": null,
   "metadata": {},
   "outputs": [],
   "source": [
    "f, ax = plt.subplots()\n",
    "ax.scatter(x=data['flipper_length_mm'], y=data['body_mass_g']);\n",
    "ax.set_xlabel('flipper length [mm]', \n",
    "              labelpad=20, # distance to the axis\n",
    "              loc='right', # horizontal position \n",
    "              color=\"white\", backgroundcolor=\"darkgray\", # colorful \n",
    "              fontstyle='italic',); # custom font style \n",
    "\n",
    "# instead of loc, we may set parameter x in combination with horizontalalignment (ha) for the relative x position "
   ]
  },
  {
   "cell_type": "markdown",
   "metadata": {},
   "source": [
    "Instead of `loc` and `pad`, we can use `x`, `y` for absolute coordinates. We can also change the font "
   ]
  },
  {
   "cell_type": "code",
   "execution_count": null,
   "metadata": {},
   "outputs": [],
   "source": [
    "f, ax = plt.subplots()\n",
    "ax.scatter(x=data['flipper_length_mm'], y=data['body_mass_g']);\n",
    "ax.set_xlabel('flipper length [mm]', x=1, ha='right',\n",
    "               fontproperties={'family': 'Roboto Condensed', 'size': 10}\n",
    "              ); \n",
    "ax.set_ylabel('body mass [g]', y=1, ha='right',\n",
    "               fontproperties={'family': 'Roboto Condensed', 'size': 10}\n",
    "              ); "
   ]
  },
  {
   "cell_type": "markdown",
   "metadata": {},
   "source": [
    "The same goes for the title: "
   ]
  },
  {
   "cell_type": "code",
   "execution_count": null,
   "metadata": {},
   "outputs": [],
   "source": [
    "f, ax = plt.subplots()\n",
    "ax.scatter(x=data['flipper_length_mm'], y=data['body_mass_g']);\n",
    "\n",
    "# using relative coordinates for title positioning: \n",
    "# ax.set_title('My chart', pad=20, loc='left',);\n",
    "\n",
    "# by default, title can be positioned in axes coordinates using x,y \n",
    "ax.set_title('My chart', x=0, y=1, ha='left', va='bottom', );\n",
    "\n",
    "# making the title centered not according to the axes, but the whole figure? \n",
    "# position the title in figure coordinates: attach the title to the center of the figure and hang it from the figure top border\n",
    "# ax.set_title('My chart', x=0.5, y=1, ha='center', va='top', transform=f.transFigure );"
   ]
  },
  {
   "cell_type": "code",
   "execution_count": null,
   "metadata": {},
   "outputs": [],
   "source": [
    "f, ax = plt.subplots()\n",
    "ax.scatter(x=data['flipper_length_mm'], y=data['body_mass_g']);\n",
    "\n",
    "# using custom font properties for the title: \n",
    "ax.set_title('My chart', fontproperties={'family': 'Courier New', 'size': 30});\n"
   ]
  },
  {
   "cell_type": "markdown",
   "metadata": {},
   "source": [
    "Note: we can only have one title! "
   ]
  },
  {
   "cell_type": "markdown",
   "metadata": {},
   "source": [
    "Note: in general, xlabel, ylabel and title are `text` objects and they accept all the keywords that `text` accepts: https://matplotlib.org/stable/tutorials/text/text_props.html \n",
    "\n",
    "We will learn them soon! "
   ]
  },
  {
   "cell_type": "markdown",
   "metadata": {},
   "source": [
    "## Styling spines"
   ]
  },
  {
   "cell_type": "markdown",
   "metadata": {},
   "source": [
    "Spines are the lines that are drawn where the axis are. Spine and axis are two separate objects, so we can have invisible spines, yet still see all the ticks "
   ]
  },
  {
   "cell_type": "markdown",
   "metadata": {},
   "source": [
    "We will access the `ax.spines` object, which has properties / keys relating to 4 spines: top, left, bottom, right "
   ]
  },
  {
   "cell_type": "markdown",
   "metadata": {},
   "source": [
    "#### switching off the spines"
   ]
  },
  {
   "cell_type": "code",
   "execution_count": null,
   "metadata": {},
   "outputs": [],
   "source": [
    "f, ax = plt.subplots()\n",
    "ax.scatter(x=data['flipper_length_mm'], y=data['body_mass_g']);\n",
    "ax.set_xlabel('flipper length [mm]');\n",
    "\n",
    "ax.spines.top.set_visible(False) # switching visibility on and off \n",
    "ax.spines['left'].set_visible(False) # ticks and spine visibility are independent and we can access the spines as a dict as well "
   ]
  },
  {
   "cell_type": "markdown",
   "metadata": {},
   "source": [
    "#### coloring the spines"
   ]
  },
  {
   "cell_type": "code",
   "execution_count": null,
   "metadata": {},
   "outputs": [],
   "source": [
    "f, ax = plt.subplots()\n",
    "ax.scatter(x=data['flipper_length_mm'], y=data['body_mass_g']);\n",
    "ax.set_xlabel('flipper length [mm]');\n",
    "\n",
    "# let's make a customized ugly bottom spine \n",
    "ax.spines.bottom.set_color('green')\n",
    "ax.spines.bottom.set_linewidth(5)\n",
    "ax.spines.bottom.set_linestyle(':')"
   ]
  },
  {
   "cell_type": "markdown",
   "metadata": {},
   "source": [
    "#### Cross the spines at an arbitrary location: "
   ]
  },
  {
   "cell_type": "markdown",
   "metadata": {},
   "source": [
    "We can make the spines cross at an arbitrary xy location, instead of them framing the plot "
   ]
  },
  {
   "cell_type": "markdown",
   "metadata": {},
   "source": [
    "Watch out for the `zorder` - by default the spines will be drawn on top of data "
   ]
  },
  {
   "cell_type": "code",
   "execution_count": null,
   "metadata": {},
   "outputs": [],
   "source": [
    "f, ax = plt.subplots()\n",
    "ax.scatter(x=data['flipper_length_mm'], y=data['body_mass_g'], \n",
    "           zorder=20);\n",
    "ax.set_xlabel('flipper length [mm]', loc='right');\n",
    "\n",
    "ax.spines.top.set_visible(False)\n",
    "ax.spines.bottom.set_position(('data', 4000))\n",
    "\n",
    "ax.spines.right.set_visible(False)\n",
    "ax.spines.left.set_position(('data', 200))\n"
   ]
  }
 ],
 "metadata": {
  "hide_input": false,
  "kernelspec": {
   "display_name": "hslu_hs23",
   "language": "python",
   "name": "hslu_hs23"
  },
  "language_info": {
   "codemirror_mode": {
    "name": "ipython",
    "version": 3
   },
   "file_extension": ".py",
   "mimetype": "text/x-python",
   "name": "python",
   "nbconvert_exporter": "python",
   "pygments_lexer": "ipython3",
   "version": "3.9.18"
  }
 },
 "nbformat": 4,
 "nbformat_minor": 4
}
