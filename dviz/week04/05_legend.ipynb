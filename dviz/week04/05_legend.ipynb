{
 "cells": [
  {
   "cell_type": "code",
   "execution_count": null,
   "metadata": {},
   "outputs": [],
   "source": [
    "import pandas as pd \n",
    "import numpy as np \n",
    "import seaborn as sns\n",
    "import matplotlib.pyplot as plt "
   ]
  },
  {
   "cell_type": "code",
   "execution_count": null,
   "metadata": {},
   "outputs": [],
   "source": [
    "plt.rcParams['figure.figsize'] = (4,3)"
   ]
  },
  {
   "cell_type": "code",
   "execution_count": null,
   "metadata": {},
   "outputs": [],
   "source": [
    "data = sns.load_dataset('penguins')"
   ]
  },
  {
   "cell_type": "code",
   "execution_count": null,
   "metadata": {},
   "outputs": [],
   "source": [
    "species_styles = {\n",
    "    'Adelie': {'color': 'tomato', 's': 100, 'alpha': 0.5}, \n",
    "    'Chinstrap': {'color': 'dodgerblue', 'marker': 'v'}, \n",
    "    'Gentoo': {'color': 'darkgray', 'edgecolor':'black'}\n",
    "}"
   ]
  },
  {
   "cell_type": "markdown",
   "metadata": {},
   "source": [
    "# Legend"
   ]
  },
  {
   "cell_type": "markdown",
   "metadata": {},
   "source": [
    "### Generating and styling the legend "
   ]
  },
  {
   "cell_type": "markdown",
   "metadata": {},
   "source": [
    "#### generating legend automatically"
   ]
  },
  {
   "cell_type": "markdown",
   "metadata": {},
   "source": [
    "https://matplotlib.org/stable/api/legend_api.html"
   ]
  },
  {
   "cell_type": "markdown",
   "metadata": {},
   "source": [
    "Generate legend automatically from the plotted data: if we add a parameter `label`, it will be added to the legend "
   ]
  },
  {
   "cell_type": "code",
   "execution_count": null,
   "metadata": {},
   "outputs": [],
   "source": [
    "f, ax = plt.subplots()\n",
    "for sp in data['species'].unique():\n",
    "    tmp_data = data.query('species == @sp')\n",
    "    ax.scatter(x=tmp_data['flipper_length_mm'], y=tmp_data['body_mass_g'], \n",
    "               **species_styles[sp], \n",
    "               label=sp) # notice the label property! \n",
    "ax.plot([170,230],[3000,4000], label='_line') # hidden from the legend \n",
    "l = ax.legend()"
   ]
  },
  {
   "cell_type": "markdown",
   "metadata": {},
   "source": [
    "if you want to hide a series from a legend, precede its name with an underscore!"
   ]
  },
  {
   "cell_type": "markdown",
   "metadata": {},
   "source": [
    "#### reposition the legend"
   ]
  },
  {
   "cell_type": "markdown",
   "metadata": {},
   "source": [
    "See https://stackoverflow.com/questions/39803385/what-does-a-4-element-tuple-argument-for-bbox-to-anchor-mean-in-matplotlib for an explanation of interplay between bbox and loc"
   ]
  },
  {
   "cell_type": "code",
   "execution_count": null,
   "metadata": {},
   "outputs": [],
   "source": [
    "f, ax = plt.subplots()\n",
    "for sp in data['species'].unique():\n",
    "    tmp_data = data.query('species == @sp')\n",
    "    ax.scatter(x=tmp_data['flipper_length_mm'], y=tmp_data['body_mass_g'], **species_styles[sp], \n",
    "              label=sp) \n",
    "\n",
    "# l = ax.legend(loc='lower right') # loc alone puts the legend inside the axes at a 1 of 9 predefined points \n",
    "\n",
    "l = ax.legend(bbox_to_anchor=(1, 1), loc='upper right') \n",
    "# now loc relates which corner must be positioned in the point specified by bbox_to_anchor"
   ]
  },
  {
   "cell_type": "markdown",
   "metadata": {},
   "source": [
    "#### legend with multiple columns "
   ]
  },
  {
   "cell_type": "markdown",
   "metadata": {},
   "source": [
    "Number of columns, placing outside and above the chart: "
   ]
  },
  {
   "cell_type": "code",
   "execution_count": null,
   "metadata": {},
   "outputs": [],
   "source": [
    "f, ax = plt.subplots()\n",
    "for sp in data['species'].unique():\n",
    "    tmp_data = data.query('species == @sp')\n",
    "    ax.scatter(x=tmp_data['flipper_length_mm'], y=tmp_data['body_mass_g'], **species_styles[sp], \n",
    "              label=sp)\n",
    "    \n",
    "l = ax.legend(ncol=3, loc='lower center', bbox_to_anchor=(0.5,1))"
   ]
  },
  {
   "cell_type": "markdown",
   "metadata": {},
   "source": [
    "#### legend with annotations "
   ]
  },
  {
   "cell_type": "markdown",
   "metadata": {},
   "source": [
    "We can add custom annotations to the legend, e.g. a custom title or a footnote"
   ]
  },
  {
   "cell_type": "code",
   "execution_count": null,
   "metadata": {},
   "outputs": [],
   "source": [
    "f, ax = plt.subplots()\n",
    "for sp in data['species'].unique():\n",
    "    tmp_data = data.query('species == @sp')\n",
    "    ax.scatter(x=tmp_data['flipper_length_mm'], y=tmp_data['body_mass_g'], **species_styles[sp], \n",
    "              label=sp)\n",
    "    \n",
    "l = ax.legend(ncol=3, loc='lower center', bbox_to_anchor=(0.5,1.1))\n",
    "anno_above = ax.annotate(xy=(0,1), text=\"Annotation above the legend\", \n",
    "                   xycoords=l,  ha='left', va='bottom', fontsize=11,\n",
    "                   zorder=99) \n",
    "anno_below = ax.annotate(xy=(0,0), text=\"Annotation below the legend\", \n",
    "                   xycoords=l,  ha='left', va='top', fontsize=8,\n",
    "                   zorder=99) "
   ]
  },
  {
   "cell_type": "markdown",
   "metadata": {},
   "source": [
    "#### fancy looking legend "
   ]
  },
  {
   "cell_type": "markdown",
   "metadata": {},
   "source": [
    "Legend box styling: "
   ]
  },
  {
   "cell_type": "code",
   "execution_count": null,
   "metadata": {},
   "outputs": [],
   "source": [
    "f, ax = plt.subplots()\n",
    "for sp in data['species'].unique():\n",
    "    tmp_data = data.query('species == @sp')\n",
    "    ax.scatter(x=tmp_data['flipper_length_mm'], y=tmp_data['body_mass_g'], **species_styles[sp], \n",
    "              label=sp) \n",
    "    \n",
    "l = ax.legend(facecolor='lightgray', fancybox=False, edgecolor='green', fontsize=12, markerscale=1.5, \n",
    "             title='Species', title_fontsize=14, borderpad=1.5, labelcolor='olive') \n",
    "# borderpad is in fraction of a fontsize"
   ]
  },
  {
   "cell_type": "markdown",
   "metadata": {},
   "source": [
    "### Creating custom elements in the legend "
   ]
  },
  {
   "cell_type": "markdown",
   "metadata": {},
   "source": [
    "Useful if we have some multidimensional encoding, e.g. we use both symbol and color, and we want to have a separate entry for the color, and not each colored symbol listed out "
   ]
  },
  {
   "cell_type": "markdown",
   "metadata": {},
   "source": [
    "We can use objects like `Line2D` or `Patch`"
   ]
  },
  {
   "cell_type": "markdown",
   "metadata": {},
   "source": [
    "#### Custom entry names"
   ]
  },
  {
   "cell_type": "code",
   "execution_count": null,
   "metadata": {},
   "outputs": [],
   "source": [
    "f, ax = plt.subplots()\n",
    "\n",
    "for sp in data['species'].unique():\n",
    "    tmp_data = data.query('species == @sp')\n",
    "    ax.scatter(x=tmp_data['flipper_length_mm'], y=tmp_data['body_mass_g'], **species_styles[sp], \n",
    "              label=sp) \n",
    "\n",
    "# if we want to manipulate the automatically generated handles and labels, we can read them manually like this: \n",
    "handles, labels = ax.get_legend_handles_labels()\n",
    "    \n",
    "# option 1: do something with each label \n",
    "# l = ax.legend(handles=handles, labels=[x.upper() for x in labels])    \n",
    "\n",
    "# option 2: overwrite each label arbitrarily (watch out: it depends on the sequence of the handles)\n",
    "l = ax.legend(handles=handles, labels=['1', '2', 'three'])"
   ]
  },
  {
   "cell_type": "code",
   "execution_count": null,
   "metadata": {},
   "outputs": [],
   "source": [
    "labels"
   ]
  },
  {
   "cell_type": "markdown",
   "metadata": {},
   "source": [
    "#### Creating legend entries from scratch and adding multiple legends to the same figure "
   ]
  },
  {
   "cell_type": "markdown",
   "metadata": {},
   "source": [
    "This example used to work in 3.6.8, but has been broken until now"
   ]
  },
  {
   "cell_type": "code",
   "execution_count": null,
   "metadata": {},
   "outputs": [],
   "source": [
    "import matplotlib as mpl \n",
    "mpl.__version__"
   ]
  },
  {
   "cell_type": "code",
   "execution_count": null,
   "metadata": {
    "scrolled": true
   },
   "outputs": [],
   "source": [
    "from matplotlib.patches import Patch\n",
    "from matplotlib.lines import Line2D\n",
    "\n",
    "f, ax = plt.subplots(figsize=(6,6), )\n",
    "    \n",
    "### here create manual handles and labels from scratch\n",
    "### we will create 4 different legends and overplot them on the same chart \n",
    "### some legends will not contain symbols at all, just colored text \n",
    "\n",
    "# initialize all the empty lists \n",
    "series = []\n",
    "handles = []\n",
    "blankhandles = []\n",
    "labels = []\n",
    "lcolors = []\n",
    "\n",
    "# iterate through the species: \n",
    "for sp in data['species'].unique():\n",
    "    # chart the data\n",
    "    tmp_data = data.query('species == @sp')\n",
    "    s = ax.scatter(x=tmp_data['flipper_length_mm'], y=tmp_data['body_mass_g'], \n",
    "                   **species_styles[sp], \n",
    "                   label=sp) \n",
    "    series.append(s)\n",
    "    \n",
    "    # create a custom name for the legend entry = label \n",
    "    l = 'Species ' + sp\n",
    "    labels.append(l)\n",
    "    \n",
    "    # create a custom legend symbol - here a rectangle patch, using our styling dict \n",
    "    h = Patch(facecolor=species_styles[sp]['color'])\n",
    "    # it could be also a line or a marker: \n",
    "#     h = Line2D([0], [0], lw=2, color=species_styles[sp]['color'])\n",
    "    handles.append(h)\n",
    "    \n",
    "    # create a list of blank handles \n",
    "    blankhandles.append(Line2D([0], [0], lw=0))\n",
    "    \n",
    "    # create a list of colors \n",
    "    lcolors.append(species_styles[sp]['color'])\n",
    "        \n",
    "l = ax.legend(handles=handles, labels=labels, \n",
    "              title='Legend 1', bbox_to_anchor=(1,1), loc='upper left')\n",
    "ax.add_artist(l) # you have to call this, otherwise the legends will keep overwriting themselves \n",
    "\n",
    "# # to recover the symbols used on the chart, we can use the series list which stores our series\n",
    "l2 = ax.legend(handles=series, labels=labels, labelcolor=lcolors, \n",
    "               title='Legend 2', bbox_to_anchor=(1,0.75), loc='upper left') \n",
    "ax.add_artist(l2)\n",
    "\n",
    "# sometimes you may need to use a blank handle, e.g. with custom ordering into columns \n",
    "l3 = ax.legend(handles=blankhandles, labels=labels, labelcolor=lcolors, \n",
    "               title='Legend 3', bbox_to_anchor=(1,0.5), loc='upper left') \n",
    "ax.add_artist(l3)\n",
    "\n",
    "l4 = ax.legend(handles=handles, labels=labels, labelcolor=lcolors, handlelength=0,  \n",
    "               title='Legend 4', bbox_to_anchor=(1,0.25), loc='upper left') \n",
    "\n",
    "# if in matplotlib above 3.7.1, don't run the last line below \n",
    "# ax.add_artist(l4)"
   ]
  },
  {
   "cell_type": "markdown",
   "metadata": {},
   "source": [
    "Custom legends are useful e.g. if you use color coding with intensity gradient (e.g. grouped bars) and you only want to show the base colors. "
   ]
  },
  {
   "cell_type": "markdown",
   "metadata": {},
   "source": [
    "___"
   ]
  },
  {
   "cell_type": "code",
   "execution_count": null,
   "metadata": {},
   "outputs": [],
   "source": []
  },
  {
   "cell_type": "code",
   "execution_count": null,
   "metadata": {},
   "outputs": [],
   "source": []
  },
  {
   "cell_type": "code",
   "execution_count": null,
   "metadata": {},
   "outputs": [],
   "source": []
  }
 ],
 "metadata": {
  "hide_input": false,
  "kernelspec": {
   "display_name": "hslu_hs23",
   "language": "python",
   "name": "hslu_hs23"
  },
  "language_info": {
   "codemirror_mode": {
    "name": "ipython",
    "version": 3
   },
   "file_extension": ".py",
   "mimetype": "text/x-python",
   "name": "python",
   "nbconvert_exporter": "python",
   "pygments_lexer": "ipython3",
   "version": "3.9.18"
  }
 },
 "nbformat": 4,
 "nbformat_minor": 4
}
